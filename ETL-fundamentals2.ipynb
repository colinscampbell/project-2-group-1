{
 "cells": [
  {
   "cell_type": "code",
<<<<<<< HEAD
   "execution_count": 3,
=======
   "execution_count": 1,
>>>>>>> main
   "metadata": {},
   "outputs": [],
   "source": [
    "import pandas as pd\n",
    "from sqlalchemy import create_engine, inspect\n",
    "from keys import (username, password)"
   ]
  },
  {
   "cell_type": "code",
<<<<<<< HEAD
   "execution_count": 5,
=======
   "execution_count": 2,
>>>>>>> main
   "metadata": {},
   "outputs": [
    {
     "data": {
      "text/html": [
       "<div>\n",
       "<style scoped>\n",
       "    .dataframe tbody tr th:only-of-type {\n",
       "        vertical-align: middle;\n",
       "    }\n",
       "\n",
       "    .dataframe tbody tr th {\n",
       "        vertical-align: top;\n",
       "    }\n",
       "\n",
       "    .dataframe thead th {\n",
       "        text-align: right;\n",
       "    }\n",
       "</style>\n",
       "<table border=\"1\" class=\"dataframe\">\n",
       "  <thead>\n",
       "    <tr style=\"text-align: right;\">\n",
       "      <th></th>\n",
       "      <th>Unnamed: 0</th>\n",
       "      <th>Ticker Symbol</th>\n",
       "      <th>Period Ending</th>\n",
       "      <th>Accounts Payable</th>\n",
       "      <th>Accounts Receivable</th>\n",
       "      <th>Add'l income/expense items</th>\n",
       "      <th>After Tax ROE</th>\n",
       "      <th>Capital Expenditures</th>\n",
       "      <th>Capital Surplus</th>\n",
       "      <th>Cash Ratio</th>\n",
       "      <th>...</th>\n",
       "      <th>Total Current Assets</th>\n",
       "      <th>Total Current Liabilities</th>\n",
       "      <th>Total Equity</th>\n",
       "      <th>Total Liabilities</th>\n",
       "      <th>Total Liabilities &amp; Equity</th>\n",
       "      <th>Total Revenue</th>\n",
       "      <th>Treasury Stock</th>\n",
       "      <th>For Year</th>\n",
       "      <th>Earnings Per Share</th>\n",
       "      <th>Estimated Shares Outstanding</th>\n",
       "    </tr>\n",
       "  </thead>\n",
       "  <tbody>\n",
       "    <tr>\n",
       "      <th>0</th>\n",
       "      <td>0</td>\n",
       "      <td>AAL</td>\n",
       "      <td>2012-12-31</td>\n",
       "      <td>3.068000e+09</td>\n",
       "      <td>-222000000.0</td>\n",
       "      <td>-1.961000e+09</td>\n",
       "      <td>23.0</td>\n",
       "      <td>-1.888000e+09</td>\n",
       "      <td>4.695000e+09</td>\n",
       "      <td>53.0</td>\n",
       "      <td>...</td>\n",
       "      <td>7.072000e+09</td>\n",
       "      <td>9.011000e+09</td>\n",
       "      <td>-7.987000e+09</td>\n",
       "      <td>2.489100e+10</td>\n",
       "      <td>1.690400e+10</td>\n",
       "      <td>2.485500e+10</td>\n",
       "      <td>-367000000.0</td>\n",
       "      <td>2012.0</td>\n",
       "      <td>-5.60</td>\n",
       "      <td>3.350000e+08</td>\n",
       "    </tr>\n",
       "    <tr>\n",
       "      <th>1</th>\n",
       "      <td>1</td>\n",
       "      <td>AAL</td>\n",
       "      <td>2013-12-31</td>\n",
       "      <td>4.975000e+09</td>\n",
       "      <td>-93000000.0</td>\n",
       "      <td>-2.723000e+09</td>\n",
       "      <td>67.0</td>\n",
       "      <td>-3.114000e+09</td>\n",
       "      <td>1.059200e+10</td>\n",
       "      <td>75.0</td>\n",
       "      <td>...</td>\n",
       "      <td>1.432300e+10</td>\n",
       "      <td>1.380600e+10</td>\n",
       "      <td>-2.731000e+09</td>\n",
       "      <td>4.500900e+10</td>\n",
       "      <td>4.227800e+10</td>\n",
       "      <td>2.674300e+10</td>\n",
       "      <td>0.0</td>\n",
       "      <td>2013.0</td>\n",
       "      <td>-11.25</td>\n",
       "      <td>1.630222e+08</td>\n",
       "    </tr>\n",
       "    <tr>\n",
       "      <th>2</th>\n",
       "      <td>2</td>\n",
       "      <td>AAL</td>\n",
       "      <td>2014-12-31</td>\n",
       "      <td>4.668000e+09</td>\n",
       "      <td>-160000000.0</td>\n",
       "      <td>-1.500000e+08</td>\n",
       "      <td>143.0</td>\n",
       "      <td>-5.311000e+09</td>\n",
       "      <td>1.513500e+10</td>\n",
       "      <td>60.0</td>\n",
       "      <td>...</td>\n",
       "      <td>1.175000e+10</td>\n",
       "      <td>1.340400e+10</td>\n",
       "      <td>2.021000e+09</td>\n",
       "      <td>4.120400e+10</td>\n",
       "      <td>4.322500e+10</td>\n",
       "      <td>4.265000e+10</td>\n",
       "      <td>0.0</td>\n",
       "      <td>2014.0</td>\n",
       "      <td>4.02</td>\n",
       "      <td>7.169154e+08</td>\n",
       "    </tr>\n",
       "    <tr>\n",
       "      <th>3</th>\n",
       "      <td>3</td>\n",
       "      <td>AAL</td>\n",
       "      <td>2015-12-31</td>\n",
       "      <td>5.102000e+09</td>\n",
       "      <td>352000000.0</td>\n",
       "      <td>-7.080000e+08</td>\n",
       "      <td>135.0</td>\n",
       "      <td>-6.151000e+09</td>\n",
       "      <td>1.159100e+10</td>\n",
       "      <td>51.0</td>\n",
       "      <td>...</td>\n",
       "      <td>9.985000e+09</td>\n",
       "      <td>1.360500e+10</td>\n",
       "      <td>5.635000e+09</td>\n",
       "      <td>4.278000e+10</td>\n",
       "      <td>4.841500e+10</td>\n",
       "      <td>4.099000e+10</td>\n",
       "      <td>0.0</td>\n",
       "      <td>2015.0</td>\n",
       "      <td>11.39</td>\n",
       "      <td>6.681299e+08</td>\n",
       "    </tr>\n",
       "    <tr>\n",
       "      <th>4</th>\n",
       "      <td>4</td>\n",
       "      <td>AAP</td>\n",
       "      <td>2012-12-29</td>\n",
       "      <td>2.409453e+09</td>\n",
       "      <td>-89482000.0</td>\n",
       "      <td>6.000000e+05</td>\n",
       "      <td>32.0</td>\n",
       "      <td>-2.711820e+08</td>\n",
       "      <td>5.202150e+08</td>\n",
       "      <td>23.0</td>\n",
       "      <td>...</td>\n",
       "      <td>3.184200e+09</td>\n",
       "      <td>2.559638e+09</td>\n",
       "      <td>1.210694e+09</td>\n",
       "      <td>3.403120e+09</td>\n",
       "      <td>4.613814e+09</td>\n",
       "      <td>6.205003e+09</td>\n",
       "      <td>-27095000.0</td>\n",
       "      <td>2012.0</td>\n",
       "      <td>5.29</td>\n",
       "      <td>7.328355e+07</td>\n",
       "    </tr>\n",
       "  </tbody>\n",
       "</table>\n",
       "<p>5 rows × 79 columns</p>\n",
       "</div>"
      ],
      "text/plain": [
       "   Unnamed: 0 Ticker Symbol Period Ending  Accounts Payable  \\\n",
       "0           0           AAL    2012-12-31      3.068000e+09   \n",
       "1           1           AAL    2013-12-31      4.975000e+09   \n",
       "2           2           AAL    2014-12-31      4.668000e+09   \n",
       "3           3           AAL    2015-12-31      5.102000e+09   \n",
       "4           4           AAP    2012-12-29      2.409453e+09   \n",
       "\n",
       "   Accounts Receivable  Add'l income/expense items  After Tax ROE  \\\n",
       "0         -222000000.0               -1.961000e+09           23.0   \n",
       "1          -93000000.0               -2.723000e+09           67.0   \n",
       "2         -160000000.0               -1.500000e+08          143.0   \n",
       "3          352000000.0               -7.080000e+08          135.0   \n",
       "4          -89482000.0                6.000000e+05           32.0   \n",
       "\n",
       "   Capital Expenditures  Capital Surplus  Cash Ratio  ...  \\\n",
       "0         -1.888000e+09     4.695000e+09        53.0  ...   \n",
       "1         -3.114000e+09     1.059200e+10        75.0  ...   \n",
       "2         -5.311000e+09     1.513500e+10        60.0  ...   \n",
       "3         -6.151000e+09     1.159100e+10        51.0  ...   \n",
       "4         -2.711820e+08     5.202150e+08        23.0  ...   \n",
       "\n",
       "   Total Current Assets  Total Current Liabilities  Total Equity  \\\n",
       "0          7.072000e+09               9.011000e+09 -7.987000e+09   \n",
       "1          1.432300e+10               1.380600e+10 -2.731000e+09   \n",
       "2          1.175000e+10               1.340400e+10  2.021000e+09   \n",
       "3          9.985000e+09               1.360500e+10  5.635000e+09   \n",
       "4          3.184200e+09               2.559638e+09  1.210694e+09   \n",
       "\n",
       "   Total Liabilities  Total Liabilities & Equity  Total Revenue  \\\n",
       "0       2.489100e+10                1.690400e+10   2.485500e+10   \n",
       "1       4.500900e+10                4.227800e+10   2.674300e+10   \n",
       "2       4.120400e+10                4.322500e+10   4.265000e+10   \n",
       "3       4.278000e+10                4.841500e+10   4.099000e+10   \n",
       "4       3.403120e+09                4.613814e+09   6.205003e+09   \n",
       "\n",
       "   Treasury Stock  For Year  Earnings Per Share  Estimated Shares Outstanding  \n",
       "0    -367000000.0    2012.0               -5.60                  3.350000e+08  \n",
       "1             0.0    2013.0              -11.25                  1.630222e+08  \n",
       "2             0.0    2014.0                4.02                  7.169154e+08  \n",
       "3             0.0    2015.0               11.39                  6.681299e+08  \n",
       "4     -27095000.0    2012.0                5.29                  7.328355e+07  \n",
       "\n",
       "[5 rows x 79 columns]"
      ]
     },
<<<<<<< HEAD
     "execution_count": 5,
=======
     "execution_count": 2,
>>>>>>> main
     "metadata": {},
     "output_type": "execute_result"
    }
   ],
   "source": [
    "csv_file = \"Resources/fundamentals.csv\"\n",
    "fundamentals_df = pd.read_csv(csv_file)\n",
    "fundamentals_df.head()"
   ]
  },
  {
   "cell_type": "code",
<<<<<<< HEAD
   "execution_count": 6,
=======
   "execution_count": 3,
>>>>>>> main
   "metadata": {},
   "outputs": [
    {
     "data": {
      "text/plain": [
       "Index(['Unnamed: 0', 'Ticker Symbol', 'Period Ending', 'Accounts Payable',\n",
       "       'Accounts Receivable', 'Add'l income/expense items', 'After Tax ROE',\n",
       "       'Capital Expenditures', 'Capital Surplus', 'Cash Ratio',\n",
       "       'Cash and Cash Equivalents', 'Changes in Inventories', 'Common Stocks',\n",
       "       'Cost of Revenue', 'Current Ratio', 'Deferred Asset Charges',\n",
       "       'Deferred Liability Charges', 'Depreciation',\n",
       "       'Earnings Before Interest and Tax', 'Earnings Before Tax',\n",
       "       'Effect of Exchange Rate',\n",
       "       'Equity Earnings/Loss Unconsolidated Subsidiary', 'Fixed Assets',\n",
       "       'Goodwill', 'Gross Margin', 'Gross Profit', 'Income Tax',\n",
       "       'Intangible Assets', 'Interest Expense', 'Inventory', 'Investments',\n",
       "       'Liabilities', 'Long-Term Debt', 'Long-Term Investments',\n",
       "       'Minority Interest', 'Misc. Stocks', 'Net Borrowings', 'Net Cash Flow',\n",
       "       'Net Cash Flow-Operating', 'Net Cash Flows-Financing',\n",
       "       'Net Cash Flows-Investing', 'Net Income', 'Net Income Adjustments',\n",
       "       'Net Income Applicable to Common Shareholders',\n",
       "       'Net Income-Cont. Operations', 'Net Receivables', 'Non-Recurring Items',\n",
       "       'Operating Income', 'Operating Margin', 'Other Assets',\n",
       "       'Other Current Assets', 'Other Current Liabilities', 'Other Equity',\n",
       "       'Other Financing Activities', 'Other Investing Activities',\n",
       "       'Other Liabilities', 'Other Operating Activities',\n",
       "       'Other Operating Items', 'Pre-Tax Margin', 'Pre-Tax ROE',\n",
       "       'Profit Margin', 'Quick Ratio', 'Research and Development',\n",
       "       'Retained Earnings', 'Sale and Purchase of Stock',\n",
       "       'Sales, General and Admin.',\n",
       "       'Short-Term Debt / Current Portion of Long-Term Debt',\n",
       "       'Short-Term Investments', 'Total Assets', 'Total Current Assets',\n",
       "       'Total Current Liabilities', 'Total Equity', 'Total Liabilities',\n",
       "       'Total Liabilities & Equity', 'Total Revenue', 'Treasury Stock',\n",
       "       'For Year', 'Earnings Per Share', 'Estimated Shares Outstanding'],\n",
       "      dtype='object')"
      ]
     },
<<<<<<< HEAD
     "execution_count": 6,
=======
     "execution_count": 3,
>>>>>>> main
     "metadata": {},
     "output_type": "execute_result"
    }
   ],
   "source": [
    "fundamentals_df.columns"
   ]
  },
  {
   "cell_type": "code",
<<<<<<< HEAD
   "execution_count": 7,
   "metadata": {},
=======
   "execution_count": 4,
   "metadata": {
    "tags": []
   },
>>>>>>> main
   "outputs": [
    {
     "data": {
      "text/html": [
       "<div>\n",
       "<style scoped>\n",
       "    .dataframe tbody tr th:only-of-type {\n",
       "        vertical-align: middle;\n",
       "    }\n",
       "\n",
       "    .dataframe tbody tr th {\n",
       "        vertical-align: top;\n",
       "    }\n",
       "\n",
       "    .dataframe thead th {\n",
       "        text-align: right;\n",
       "    }\n",
       "</style>\n",
       "<table border=\"1\" class=\"dataframe\">\n",
       "  <thead>\n",
       "    <tr style=\"text-align: right;\">\n",
       "      <th></th>\n",
       "      <th>Ticker</th>\n",
       "      <th>Period Ending</th>\n",
       "      <th>Revenue</th>\n",
       "      <th>COGS</th>\n",
       "      <th>Depreciation</th>\n",
       "      <th>Tax</th>\n",
       "      <th>Operating Income</th>\n",
       "      <th>SG&amp;A</th>\n",
       "    </tr>\n",
       "  </thead>\n",
       "  <tbody>\n",
       "    <tr>\n",
       "      <th>0</th>\n",
       "      <td>AAL</td>\n",
       "      <td>2012-12-31</td>\n",
       "      <td>2.485500e+10</td>\n",
       "      <td>1.049900e+10</td>\n",
       "      <td>1.001000e+09</td>\n",
       "      <td>-5.690000e+08</td>\n",
       "      <td>1.480000e+08</td>\n",
       "      <td>1.297700e+10</td>\n",
       "    </tr>\n",
       "    <tr>\n",
       "      <th>1</th>\n",
       "      <td>AAL</td>\n",
       "      <td>2013-12-31</td>\n",
       "      <td>2.674300e+10</td>\n",
       "      <td>1.101900e+10</td>\n",
       "      <td>1.020000e+09</td>\n",
       "      <td>-3.460000e+08</td>\n",
       "      <td>1.399000e+09</td>\n",
       "      <td>1.291300e+10</td>\n",
       "    </tr>\n",
       "    <tr>\n",
       "      <th>2</th>\n",
       "      <td>AAL</td>\n",
       "      <td>2014-12-31</td>\n",
       "      <td>4.265000e+10</td>\n",
       "      <td>1.562000e+10</td>\n",
       "      <td>1.342000e+09</td>\n",
       "      <td>3.300000e+08</td>\n",
       "      <td>4.249000e+09</td>\n",
       "      <td>2.068600e+10</td>\n",
       "    </tr>\n",
       "    <tr>\n",
       "      <th>3</th>\n",
       "      <td>AAL</td>\n",
       "      <td>2015-12-31</td>\n",
       "      <td>4.099000e+10</td>\n",
       "      <td>1.109600e+10</td>\n",
       "      <td>1.487000e+09</td>\n",
       "      <td>-2.994000e+09</td>\n",
       "      <td>6.204000e+09</td>\n",
       "      <td>2.127500e+10</td>\n",
       "    </tr>\n",
       "    <tr>\n",
       "      <th>4</th>\n",
       "      <td>AAP</td>\n",
       "      <td>2012-12-29</td>\n",
       "      <td>6.205003e+09</td>\n",
       "      <td>3.106967e+09</td>\n",
       "      <td>1.895440e+08</td>\n",
       "      <td>2.364040e+08</td>\n",
       "      <td>6.573150e+08</td>\n",
       "      <td>2.440721e+09</td>\n",
       "    </tr>\n",
       "  </tbody>\n",
       "</table>\n",
       "</div>"
      ],
      "text/plain": [
       "  Ticker Period Ending       Revenue          COGS  Depreciation  \\\n",
       "0    AAL    2012-12-31  2.485500e+10  1.049900e+10  1.001000e+09   \n",
       "1    AAL    2013-12-31  2.674300e+10  1.101900e+10  1.020000e+09   \n",
       "2    AAL    2014-12-31  4.265000e+10  1.562000e+10  1.342000e+09   \n",
       "3    AAL    2015-12-31  4.099000e+10  1.109600e+10  1.487000e+09   \n",
       "4    AAP    2012-12-29  6.205003e+09  3.106967e+09  1.895440e+08   \n",
       "\n",
       "            Tax  Operating Income          SG&A  \n",
       "0 -5.690000e+08      1.480000e+08  1.297700e+10  \n",
       "1 -3.460000e+08      1.399000e+09  1.291300e+10  \n",
       "2  3.300000e+08      4.249000e+09  2.068600e+10  \n",
       "3 -2.994000e+09      6.204000e+09  2.127500e+10  \n",
       "4  2.364040e+08      6.573150e+08  2.440721e+09  "
      ]
     },
<<<<<<< HEAD
     "execution_count": 7,
=======
     "execution_count": 4,
>>>>>>> main
     "metadata": {},
     "output_type": "execute_result"
    }
   ],
   "source": [
    "#Income Statement\n",
    "income_df = fundamentals_df[[\"Ticker Symbol\", \"Period Ending\", \"Total Revenue\", \"Cost of Revenue\", \"Depreciation\", \"Income Tax\", \"Operating Income\", \"Sales, General and Admin.\"]]\n",
    "income_df = income_df.rename(columns = {\"Ticker Symbol\": \"Ticker\", \"Total Revenue\": \"Revenue\", \"Cost of Revenue\": \"COGS\", \"Income Tax\": \"Tax\", \"Sales, General and Admin.\": \"SG&A\"} )\n",
    "income_df.head()"
   ]
  },
  {
   "cell_type": "code",
<<<<<<< HEAD
   "execution_count": 8,
   "metadata": {},
=======
   "execution_count": 5,
   "metadata": {
    "tags": []
   },
>>>>>>> main
   "outputs": [
    {
     "data": {
      "text/html": [
       "<div>\n",
       "<style scoped>\n",
       "    .dataframe tbody tr th:only-of-type {\n",
       "        vertical-align: middle;\n",
       "    }\n",
       "\n",
       "    .dataframe tbody tr th {\n",
       "        vertical-align: top;\n",
       "    }\n",
       "\n",
       "    .dataframe thead th {\n",
       "        text-align: right;\n",
       "    }\n",
       "</style>\n",
       "<table border=\"1\" class=\"dataframe\">\n",
       "  <thead>\n",
       "    <tr style=\"text-align: right;\">\n",
       "      <th></th>\n",
       "      <th>Ticker</th>\n",
       "      <th>Period Ending</th>\n",
       "      <th>Receivables</th>\n",
       "      <th>Payables</th>\n",
       "      <th>Cash</th>\n",
       "      <th>Fixed Assets</th>\n",
       "      <th>Goodwill</th>\n",
       "      <th>Inventory</th>\n",
       "      <th>Other Assets</th>\n",
       "    </tr>\n",
       "  </thead>\n",
       "  <tbody>\n",
       "    <tr>\n",
       "      <th>0</th>\n",
       "      <td>AAL</td>\n",
       "      <td>2012-12-31</td>\n",
       "      <td>-222000000.0</td>\n",
       "      <td>3.068000e+09</td>\n",
       "      <td>1.330000e+09</td>\n",
       "      <td>1.340200e+10</td>\n",
       "      <td>0.000000e+00</td>\n",
       "      <td>5.800000e+08</td>\n",
       "      <td>2.167000e+09</td>\n",
       "    </tr>\n",
       "    <tr>\n",
       "      <th>1</th>\n",
       "      <td>AAL</td>\n",
       "      <td>2013-12-31</td>\n",
       "      <td>-93000000.0</td>\n",
       "      <td>4.975000e+09</td>\n",
       "      <td>2.175000e+09</td>\n",
       "      <td>1.925900e+10</td>\n",
       "      <td>4.086000e+09</td>\n",
       "      <td>1.012000e+09</td>\n",
       "      <td>2.299000e+09</td>\n",
       "    </tr>\n",
       "    <tr>\n",
       "      <th>2</th>\n",
       "      <td>AAL</td>\n",
       "      <td>2014-12-31</td>\n",
       "      <td>-160000000.0</td>\n",
       "      <td>4.668000e+09</td>\n",
       "      <td>1.768000e+09</td>\n",
       "      <td>2.308400e+10</td>\n",
       "      <td>4.091000e+09</td>\n",
       "      <td>1.004000e+09</td>\n",
       "      <td>2.060000e+09</td>\n",
       "    </tr>\n",
       "    <tr>\n",
       "      <th>3</th>\n",
       "      <td>AAL</td>\n",
       "      <td>2015-12-31</td>\n",
       "      <td>352000000.0</td>\n",
       "      <td>5.102000e+09</td>\n",
       "      <td>1.085000e+09</td>\n",
       "      <td>2.751000e+10</td>\n",
       "      <td>4.091000e+09</td>\n",
       "      <td>8.630000e+08</td>\n",
       "      <td>2.103000e+09</td>\n",
       "    </tr>\n",
       "    <tr>\n",
       "      <th>4</th>\n",
       "      <td>AAP</td>\n",
       "      <td>2012-12-29</td>\n",
       "      <td>-89482000.0</td>\n",
       "      <td>2.409453e+09</td>\n",
       "      <td>5.981110e+08</td>\n",
       "      <td>1.292547e+09</td>\n",
       "      <td>7.638900e+07</td>\n",
       "      <td>2.308609e+09</td>\n",
       "      <td>3.183300e+07</td>\n",
       "    </tr>\n",
       "  </tbody>\n",
       "</table>\n",
       "</div>"
      ],
      "text/plain": [
       "  Ticker Period Ending  Receivables      Payables          Cash  Fixed Assets  \\\n",
       "0    AAL    2012-12-31 -222000000.0  3.068000e+09  1.330000e+09  1.340200e+10   \n",
       "1    AAL    2013-12-31  -93000000.0  4.975000e+09  2.175000e+09  1.925900e+10   \n",
       "2    AAL    2014-12-31 -160000000.0  4.668000e+09  1.768000e+09  2.308400e+10   \n",
       "3    AAL    2015-12-31  352000000.0  5.102000e+09  1.085000e+09  2.751000e+10   \n",
       "4    AAP    2012-12-29  -89482000.0  2.409453e+09  5.981110e+08  1.292547e+09   \n",
       "\n",
       "       Goodwill     Inventory  Other Assets  \n",
       "0  0.000000e+00  5.800000e+08  2.167000e+09  \n",
       "1  4.086000e+09  1.012000e+09  2.299000e+09  \n",
       "2  4.091000e+09  1.004000e+09  2.060000e+09  \n",
       "3  4.091000e+09  8.630000e+08  2.103000e+09  \n",
       "4  7.638900e+07  2.308609e+09  3.183300e+07  "
      ]
     },
<<<<<<< HEAD
     "execution_count": 8,
=======
     "execution_count": 5,
>>>>>>> main
     "metadata": {},
     "output_type": "execute_result"
    }
   ],
   "source": [
    "#Balance Sheet\n",
    "balance_df = fundamentals_df[[\"Ticker Symbol\", \"Period Ending\", \"Accounts Receivable\", \"Accounts Payable\", \"Cash and Cash Equivalents\", \"Fixed Assets\", \"Goodwill\", \"Inventory\", \"Other Assets\"]]\n",
    "balance_df = balance_df.rename(columns = {\"Ticker Symbol\": \"Ticker\", \"Accounts Receivable\": \"Receivables\", \"Accounts Payable\": \"Payables\", \"Cash and Cash Equivalents\": \"Cash\"})\n",
    "balance_df.head()"
   ]
  },
  {
   "cell_type": "code",
<<<<<<< HEAD
   "execution_count": 10,
=======
   "execution_count": 6,
>>>>>>> main
   "metadata": {},
   "outputs": [
    {
     "data": {
      "text/html": [
       "<div>\n",
       "<style scoped>\n",
       "    .dataframe tbody tr th:only-of-type {\n",
       "        vertical-align: middle;\n",
       "    }\n",
       "\n",
       "    .dataframe tbody tr th {\n",
       "        vertical-align: top;\n",
       "    }\n",
       "\n",
       "    .dataframe thead th {\n",
       "        text-align: right;\n",
       "    }\n",
       "</style>\n",
       "<table border=\"1\" class=\"dataframe\">\n",
       "  <thead>\n",
       "    <tr style=\"text-align: right;\">\n",
       "      <th></th>\n",
       "      <th>Ticker</th>\n",
       "      <th>Period Ending</th>\n",
<<<<<<< HEAD
       "      <th>After Tax ROE</th>\n",
       "      <th>Cash Ratio</th>\n",
       "      <th>Current Ratio</th>\n",
       "      <th>Gross Margin</th>\n",
       "      <th>Operating Margin</th>\n",
       "      <th>Profit Margin</th>\n",
       "      <th>Quick Ratio</th>\n",
       "      <th>EPS</th>\n",
=======
       "      <th>Acid</th>\n",
       "      <th>Current Ratio</th>\n",
       "      <th>EPS</th>\n",
       "      <th>Profit Margin</th>\n",
       "      <th>ROE</th>\n",
>>>>>>> main
       "    </tr>\n",
       "  </thead>\n",
       "  <tbody>\n",
       "    <tr>\n",
       "      <th>0</th>\n",
       "      <td>AAL</td>\n",
       "      <td>2012-12-31</td>\n",
<<<<<<< HEAD
       "      <td>23.0</td>\n",
       "      <td>53.0</td>\n",
       "      <td>78.0</td>\n",
       "      <td>58.0</td>\n",
       "      <td>1.0</td>\n",
       "      <td>8.0</td>\n",
       "      <td>72.0</td>\n",
       "      <td>-5.60</td>\n",
=======
       "      <td>72.0</td>\n",
       "      <td>78.0</td>\n",
       "      <td>-5.60</td>\n",
       "      <td>8.0</td>\n",
       "      <td>23.0</td>\n",
>>>>>>> main
       "    </tr>\n",
       "    <tr>\n",
       "      <th>1</th>\n",
       "      <td>AAL</td>\n",
       "      <td>2013-12-31</td>\n",
<<<<<<< HEAD
       "      <td>67.0</td>\n",
       "      <td>75.0</td>\n",
       "      <td>104.0</td>\n",
       "      <td>59.0</td>\n",
       "      <td>5.0</td>\n",
       "      <td>7.0</td>\n",
       "      <td>96.0</td>\n",
       "      <td>-11.25</td>\n",
=======
       "      <td>96.0</td>\n",
       "      <td>104.0</td>\n",
       "      <td>-11.25</td>\n",
       "      <td>7.0</td>\n",
       "      <td>67.0</td>\n",
>>>>>>> main
       "    </tr>\n",
       "    <tr>\n",
       "      <th>2</th>\n",
       "      <td>AAL</td>\n",
       "      <td>2014-12-31</td>\n",
<<<<<<< HEAD
       "      <td>143.0</td>\n",
       "      <td>60.0</td>\n",
       "      <td>88.0</td>\n",
       "      <td>63.0</td>\n",
       "      <td>10.0</td>\n",
       "      <td>7.0</td>\n",
       "      <td>80.0</td>\n",
       "      <td>4.02</td>\n",
=======
       "      <td>80.0</td>\n",
       "      <td>88.0</td>\n",
       "      <td>4.02</td>\n",
       "      <td>7.0</td>\n",
       "      <td>143.0</td>\n",
>>>>>>> main
       "    </tr>\n",
       "    <tr>\n",
       "      <th>3</th>\n",
       "      <td>AAL</td>\n",
       "      <td>2015-12-31</td>\n",
<<<<<<< HEAD
       "      <td>135.0</td>\n",
       "      <td>51.0</td>\n",
       "      <td>73.0</td>\n",
       "      <td>73.0</td>\n",
       "      <td>15.0</td>\n",
       "      <td>19.0</td>\n",
       "      <td>67.0</td>\n",
       "      <td>11.39</td>\n",
=======
       "      <td>67.0</td>\n",
       "      <td>73.0</td>\n",
       "      <td>11.39</td>\n",
       "      <td>19.0</td>\n",
       "      <td>135.0</td>\n",
>>>>>>> main
       "    </tr>\n",
       "    <tr>\n",
       "      <th>4</th>\n",
       "      <td>AAP</td>\n",
       "      <td>2012-12-29</td>\n",
<<<<<<< HEAD
       "      <td>32.0</td>\n",
       "      <td>23.0</td>\n",
       "      <td>124.0</td>\n",
       "      <td>50.0</td>\n",
       "      <td>11.0</td>\n",
       "      <td>6.0</td>\n",
       "      <td>34.0</td>\n",
       "      <td>5.29</td>\n",
=======
       "      <td>34.0</td>\n",
       "      <td>124.0</td>\n",
       "      <td>5.29</td>\n",
       "      <td>6.0</td>\n",
       "      <td>32.0</td>\n",
>>>>>>> main
       "    </tr>\n",
       "  </tbody>\n",
       "</table>\n",
       "</div>"
      ],
      "text/plain": [
<<<<<<< HEAD
       "  Ticker Period Ending  After Tax ROE  Cash Ratio  Current Ratio  \\\n",
       "0    AAL    2012-12-31           23.0        53.0           78.0   \n",
       "1    AAL    2013-12-31           67.0        75.0          104.0   \n",
       "2    AAL    2014-12-31          143.0        60.0           88.0   \n",
       "3    AAL    2015-12-31          135.0        51.0           73.0   \n",
       "4    AAP    2012-12-29           32.0        23.0          124.0   \n",
       "\n",
       "   Gross Margin  Operating Margin  Profit Margin  Quick Ratio    EPS  \n",
       "0          58.0               1.0            8.0         72.0  -5.60  \n",
       "1          59.0               5.0            7.0         96.0 -11.25  \n",
       "2          63.0              10.0            7.0         80.0   4.02  \n",
       "3          73.0              15.0           19.0         67.0  11.39  \n",
       "4          50.0              11.0            6.0         34.0   5.29  "
      ]
     },
     "execution_count": 10,
=======
       "  Ticker Period Ending  Acid  Current Ratio    EPS  Profit Margin    ROE\n",
       "0    AAL    2012-12-31  72.0           78.0  -5.60            8.0   23.0\n",
       "1    AAL    2013-12-31  96.0          104.0 -11.25            7.0   67.0\n",
       "2    AAL    2014-12-31  80.0           88.0   4.02            7.0  143.0\n",
       "3    AAL    2015-12-31  67.0           73.0  11.39           19.0  135.0\n",
       "4    AAP    2012-12-29  34.0          124.0   5.29            6.0   32.0"
      ]
     },
     "execution_count": 6,
>>>>>>> main
     "metadata": {},
     "output_type": "execute_result"
    }
   ],
   "source": [
    "#Financial Ratios\n",
<<<<<<< HEAD
    "ratios_df = fundamentals_df[[\"Ticker Symbol\", \"Period Ending\", \"After Tax ROE\", \"Cash Ratio\", \"Current Ratio\", \"Gross Margin\", \"Operating Margin\", \"Profit Margin\", \"Quick Ratio\", \"Earnings Per Share\"]]\n",
    "ratios_df = ratios_df.rename(columns = {\"Ticker Symbol\": \"Ticker\", \"Earnings Per Share\": \"EPS\"})\n",
=======
    "ratios_df = fundamentals_df[[\"Ticker Symbol\", \"Period Ending\", \"Quick Ratio\", \"Current Ratio\", \"Earnings Per Share\", \"Profit Margin\", \"After Tax ROE\"]]\n",
    "ratios_df = ratios_df.rename(columns = {\"Ticker Symbol\": \"Ticker\", \"Quick Ratio\": \"Acid\", \"Earnings Per Share\": \"EPS\", \"After Tax ROE\": \"ROE\"})\n",
>>>>>>> main
    "ratios_df.head()"
   ]
  },
  {
   "cell_type": "code",
<<<<<<< HEAD
   "execution_count": 11,
=======
   "execution_count": 7,
>>>>>>> main
   "metadata": {},
   "outputs": [],
   "source": [
    "rds_connection_string = f\"{username}:{password}@localhost:5432/finance_db\"\n",
    "engine = create_engine(f'postgresql://{rds_connection_string}')"
   ]
  },
  {
   "cell_type": "code",
<<<<<<< HEAD
   "execution_count": 12,
=======
   "execution_count": 8,
>>>>>>> main
   "metadata": {},
   "outputs": [],
   "source": [
    "income_df.to_sql(name='income_statement', con=engine, if_exists='replace', index=False)\n",
    "balance_df.to_sql(name='balance_sheet', con=engine, if_exists='replace', index=False)\n",
    "ratios_df.to_sql(name='financial_ratios', con=engine, if_exists='replace', index=False)"
   ]
  },
  {
   "cell_type": "code",
<<<<<<< HEAD
   "execution_count": 13,
=======
   "execution_count": 9,
>>>>>>> main
   "metadata": {},
   "outputs": [
    {
     "data": {
      "text/plain": [
<<<<<<< HEAD
       "['income_statement', 'balance_sheet', 'financial_ratios']"
      ]
     },
     "execution_count": 13,
=======
       "['fundamentals',\n",
       " 'split_adjusted_prices',\n",
       " 'income_statement',\n",
       " 'balance_sheet',\n",
       " 'financial_ratios']"
      ]
     },
     "execution_count": 9,
>>>>>>> main
     "metadata": {},
     "output_type": "execute_result"
    }
   ],
   "source": [
    "inspector = inspect(engine)\n",
    "inspector.get_table_names()"
   ]
  },
  {
   "cell_type": "code",
   "execution_count": null,
   "metadata": {},
   "outputs": [],
   "source": []
  }
 ],
 "metadata": {
  "interpreter": {
   "hash": "7c19f75c58f27f71661e07b8011b01fcc70f648a8eebfbb97779177ad9ca81a3"
  },
  "kernelspec": {
   "display_name": "Python 3 (ipykernel)",
   "language": "python",
   "name": "python3"
  },
  "language_info": {
   "codemirror_mode": {
    "name": "ipython",
    "version": 3
   },
   "file_extension": ".py",
   "mimetype": "text/x-python",
   "name": "python",
   "nbconvert_exporter": "python",
   "pygments_lexer": "ipython3",
   "version": "3.8.12"
  }
 },
 "nbformat": 4,
 "nbformat_minor": 4
}
